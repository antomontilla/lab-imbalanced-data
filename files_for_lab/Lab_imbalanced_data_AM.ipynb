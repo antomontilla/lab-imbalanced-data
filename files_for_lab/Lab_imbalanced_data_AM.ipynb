{
 "cells": [
  {
   "cell_type": "markdown",
   "id": "d5d4ecbd",
   "metadata": {},
   "source": [
    "## Lab | Imbalanced data ##\n",
    "Antonio Montilla"
   ]
  },
  {
   "cell_type": "markdown",
   "id": "4dc9d90a",
   "metadata": {},
   "source": [
    "We will be using the files_for_lab/customer_churn.csv dataset to build a churn predictor."
   ]
  },
  {
   "cell_type": "markdown",
   "id": "42e80adc",
   "metadata": {},
   "source": [
    "#### 1. Load the dataset and explore the variables. ####"
   ]
  },
  {
   "cell_type": "code",
   "execution_count": 1,
   "id": "2ca0f0c6",
   "metadata": {},
   "outputs": [],
   "source": [
    "#importing libraries\n",
    "import pandas as pd\n",
    "import numpy as np\n",
    "import matplotlib.pyplot as plt\n",
    "import seaborn as sns"
   ]
  },
  {
   "cell_type": "code",
   "execution_count": 4,
   "id": "31701329",
   "metadata": {},
   "outputs": [
    {
     "data": {
      "text/html": [
       "<div>\n",
       "<style scoped>\n",
       "    .dataframe tbody tr th:only-of-type {\n",
       "        vertical-align: middle;\n",
       "    }\n",
       "\n",
       "    .dataframe tbody tr th {\n",
       "        vertical-align: top;\n",
       "    }\n",
       "\n",
       "    .dataframe thead th {\n",
       "        text-align: right;\n",
       "    }\n",
       "</style>\n",
       "<table border=\"1\" class=\"dataframe\">\n",
       "  <thead>\n",
       "    <tr style=\"text-align: right;\">\n",
       "      <th></th>\n",
       "      <th>customerID</th>\n",
       "      <th>gender</th>\n",
       "      <th>SeniorCitizen</th>\n",
       "      <th>Partner</th>\n",
       "      <th>Dependents</th>\n",
       "      <th>tenure</th>\n",
       "      <th>PhoneService</th>\n",
       "      <th>MultipleLines</th>\n",
       "      <th>InternetService</th>\n",
       "      <th>OnlineSecurity</th>\n",
       "      <th>...</th>\n",
       "      <th>DeviceProtection</th>\n",
       "      <th>TechSupport</th>\n",
       "      <th>StreamingTV</th>\n",
       "      <th>StreamingMovies</th>\n",
       "      <th>Contract</th>\n",
       "      <th>PaperlessBilling</th>\n",
       "      <th>PaymentMethod</th>\n",
       "      <th>MonthlyCharges</th>\n",
       "      <th>TotalCharges</th>\n",
       "      <th>Churn</th>\n",
       "    </tr>\n",
       "  </thead>\n",
       "  <tbody>\n",
       "    <tr>\n",
       "      <th>0</th>\n",
       "      <td>7590-VHVEG</td>\n",
       "      <td>Female</td>\n",
       "      <td>0</td>\n",
       "      <td>Yes</td>\n",
       "      <td>No</td>\n",
       "      <td>1</td>\n",
       "      <td>No</td>\n",
       "      <td>No phone service</td>\n",
       "      <td>DSL</td>\n",
       "      <td>No</td>\n",
       "      <td>...</td>\n",
       "      <td>No</td>\n",
       "      <td>No</td>\n",
       "      <td>No</td>\n",
       "      <td>No</td>\n",
       "      <td>Month-to-month</td>\n",
       "      <td>Yes</td>\n",
       "      <td>Electronic check</td>\n",
       "      <td>29.85</td>\n",
       "      <td>29.85</td>\n",
       "      <td>No</td>\n",
       "    </tr>\n",
       "    <tr>\n",
       "      <th>1</th>\n",
       "      <td>5575-GNVDE</td>\n",
       "      <td>Male</td>\n",
       "      <td>0</td>\n",
       "      <td>No</td>\n",
       "      <td>No</td>\n",
       "      <td>34</td>\n",
       "      <td>Yes</td>\n",
       "      <td>No</td>\n",
       "      <td>DSL</td>\n",
       "      <td>Yes</td>\n",
       "      <td>...</td>\n",
       "      <td>Yes</td>\n",
       "      <td>No</td>\n",
       "      <td>No</td>\n",
       "      <td>No</td>\n",
       "      <td>One year</td>\n",
       "      <td>No</td>\n",
       "      <td>Mailed check</td>\n",
       "      <td>56.95</td>\n",
       "      <td>1889.5</td>\n",
       "      <td>No</td>\n",
       "    </tr>\n",
       "    <tr>\n",
       "      <th>2</th>\n",
       "      <td>3668-QPYBK</td>\n",
       "      <td>Male</td>\n",
       "      <td>0</td>\n",
       "      <td>No</td>\n",
       "      <td>No</td>\n",
       "      <td>2</td>\n",
       "      <td>Yes</td>\n",
       "      <td>No</td>\n",
       "      <td>DSL</td>\n",
       "      <td>Yes</td>\n",
       "      <td>...</td>\n",
       "      <td>No</td>\n",
       "      <td>No</td>\n",
       "      <td>No</td>\n",
       "      <td>No</td>\n",
       "      <td>Month-to-month</td>\n",
       "      <td>Yes</td>\n",
       "      <td>Mailed check</td>\n",
       "      <td>53.85</td>\n",
       "      <td>108.15</td>\n",
       "      <td>Yes</td>\n",
       "    </tr>\n",
       "    <tr>\n",
       "      <th>3</th>\n",
       "      <td>7795-CFOCW</td>\n",
       "      <td>Male</td>\n",
       "      <td>0</td>\n",
       "      <td>No</td>\n",
       "      <td>No</td>\n",
       "      <td>45</td>\n",
       "      <td>No</td>\n",
       "      <td>No phone service</td>\n",
       "      <td>DSL</td>\n",
       "      <td>Yes</td>\n",
       "      <td>...</td>\n",
       "      <td>Yes</td>\n",
       "      <td>Yes</td>\n",
       "      <td>No</td>\n",
       "      <td>No</td>\n",
       "      <td>One year</td>\n",
       "      <td>No</td>\n",
       "      <td>Bank transfer (automatic)</td>\n",
       "      <td>42.30</td>\n",
       "      <td>1840.75</td>\n",
       "      <td>No</td>\n",
       "    </tr>\n",
       "    <tr>\n",
       "      <th>4</th>\n",
       "      <td>9237-HQITU</td>\n",
       "      <td>Female</td>\n",
       "      <td>0</td>\n",
       "      <td>No</td>\n",
       "      <td>No</td>\n",
       "      <td>2</td>\n",
       "      <td>Yes</td>\n",
       "      <td>No</td>\n",
       "      <td>Fiber optic</td>\n",
       "      <td>No</td>\n",
       "      <td>...</td>\n",
       "      <td>No</td>\n",
       "      <td>No</td>\n",
       "      <td>No</td>\n",
       "      <td>No</td>\n",
       "      <td>Month-to-month</td>\n",
       "      <td>Yes</td>\n",
       "      <td>Electronic check</td>\n",
       "      <td>70.70</td>\n",
       "      <td>151.65</td>\n",
       "      <td>Yes</td>\n",
       "    </tr>\n",
       "  </tbody>\n",
       "</table>\n",
       "<p>5 rows × 21 columns</p>\n",
       "</div>"
      ],
      "text/plain": [
       "   customerID  gender  SeniorCitizen Partner Dependents  tenure PhoneService  \\\n",
       "0  7590-VHVEG  Female              0     Yes         No       1           No   \n",
       "1  5575-GNVDE    Male              0      No         No      34          Yes   \n",
       "2  3668-QPYBK    Male              0      No         No       2          Yes   \n",
       "3  7795-CFOCW    Male              0      No         No      45           No   \n",
       "4  9237-HQITU  Female              0      No         No       2          Yes   \n",
       "\n",
       "      MultipleLines InternetService OnlineSecurity  ... DeviceProtection  \\\n",
       "0  No phone service             DSL             No  ...               No   \n",
       "1                No             DSL            Yes  ...              Yes   \n",
       "2                No             DSL            Yes  ...               No   \n",
       "3  No phone service             DSL            Yes  ...              Yes   \n",
       "4                No     Fiber optic             No  ...               No   \n",
       "\n",
       "  TechSupport StreamingTV StreamingMovies        Contract PaperlessBilling  \\\n",
       "0          No          No              No  Month-to-month              Yes   \n",
       "1          No          No              No        One year               No   \n",
       "2          No          No              No  Month-to-month              Yes   \n",
       "3         Yes          No              No        One year               No   \n",
       "4          No          No              No  Month-to-month              Yes   \n",
       "\n",
       "               PaymentMethod MonthlyCharges  TotalCharges Churn  \n",
       "0           Electronic check          29.85         29.85    No  \n",
       "1               Mailed check          56.95        1889.5    No  \n",
       "2               Mailed check          53.85        108.15   Yes  \n",
       "3  Bank transfer (automatic)          42.30       1840.75    No  \n",
       "4           Electronic check          70.70        151.65   Yes  \n",
       "\n",
       "[5 rows x 21 columns]"
      ]
     },
     "metadata": {},
     "output_type": "display_data"
    },
    {
     "data": {
      "text/plain": [
       "(7043, 21)"
      ]
     },
     "metadata": {},
     "output_type": "display_data"
    },
    {
     "data": {
      "text/plain": [
       "Index(['customerID', 'gender', 'SeniorCitizen', 'Partner', 'Dependents',\n",
       "       'tenure', 'PhoneService', 'MultipleLines', 'InternetService',\n",
       "       'OnlineSecurity', 'OnlineBackup', 'DeviceProtection', 'TechSupport',\n",
       "       'StreamingTV', 'StreamingMovies', 'Contract', 'PaperlessBilling',\n",
       "       'PaymentMethod', 'MonthlyCharges', 'TotalCharges', 'Churn'],\n",
       "      dtype='object')"
      ]
     },
     "metadata": {},
     "output_type": "display_data"
    }
   ],
   "source": [
    "#importing the dataset\n",
    "customer = pd.read_csv(\"customer_churn.csv\")\n",
    "display(customer.head())\n",
    "display(customer.shape)\n",
    "display(customer.columns)"
   ]
  },
  {
   "cell_type": "markdown",
   "id": "5617abf6",
   "metadata": {},
   "source": [
    "#### 2. We will try to predict variable Churn using a logistic regression on variables tenure, SeniorCitizen,MonthlyCharges. ####"
   ]
  },
  {
   "cell_type": "code",
   "execution_count": 5,
   "id": "f4cfabf7",
   "metadata": {},
   "outputs": [],
   "source": [
    "#creating the data to be used in the model, as instructed\n",
    "data = customer[['Churn', 'tenure', 'SeniorCitizen', 'MonthlyCharges']]"
   ]
  },
  {
   "cell_type": "code",
   "execution_count": 7,
   "id": "2af69a67",
   "metadata": {},
   "outputs": [
    {
     "data": {
      "text/html": [
       "<div>\n",
       "<style scoped>\n",
       "    .dataframe tbody tr th:only-of-type {\n",
       "        vertical-align: middle;\n",
       "    }\n",
       "\n",
       "    .dataframe tbody tr th {\n",
       "        vertical-align: top;\n",
       "    }\n",
       "\n",
       "    .dataframe thead th {\n",
       "        text-align: right;\n",
       "    }\n",
       "</style>\n",
       "<table border=\"1\" class=\"dataframe\">\n",
       "  <thead>\n",
       "    <tr style=\"text-align: right;\">\n",
       "      <th></th>\n",
       "      <th>Churn</th>\n",
       "      <th>tenure</th>\n",
       "      <th>SeniorCitizen</th>\n",
       "      <th>MonthlyCharges</th>\n",
       "    </tr>\n",
       "  </thead>\n",
       "  <tbody>\n",
       "    <tr>\n",
       "      <th>0</th>\n",
       "      <td>No</td>\n",
       "      <td>1</td>\n",
       "      <td>0</td>\n",
       "      <td>29.85</td>\n",
       "    </tr>\n",
       "    <tr>\n",
       "      <th>1</th>\n",
       "      <td>No</td>\n",
       "      <td>34</td>\n",
       "      <td>0</td>\n",
       "      <td>56.95</td>\n",
       "    </tr>\n",
       "    <tr>\n",
       "      <th>2</th>\n",
       "      <td>Yes</td>\n",
       "      <td>2</td>\n",
       "      <td>0</td>\n",
       "      <td>53.85</td>\n",
       "    </tr>\n",
       "    <tr>\n",
       "      <th>3</th>\n",
       "      <td>No</td>\n",
       "      <td>45</td>\n",
       "      <td>0</td>\n",
       "      <td>42.30</td>\n",
       "    </tr>\n",
       "    <tr>\n",
       "      <th>4</th>\n",
       "      <td>Yes</td>\n",
       "      <td>2</td>\n",
       "      <td>0</td>\n",
       "      <td>70.70</td>\n",
       "    </tr>\n",
       "  </tbody>\n",
       "</table>\n",
       "</div>"
      ],
      "text/plain": [
       "  Churn  tenure  SeniorCitizen  MonthlyCharges\n",
       "0    No       1              0           29.85\n",
       "1    No      34              0           56.95\n",
       "2   Yes       2              0           53.85\n",
       "3    No      45              0           42.30\n",
       "4   Yes       2              0           70.70"
      ]
     },
     "metadata": {},
     "output_type": "display_data"
    },
    {
     "data": {
      "text/plain": [
       "(7043, 4)"
      ]
     },
     "metadata": {},
     "output_type": "display_data"
    },
    {
     "data": {
      "text/plain": [
       "Churn              object\n",
       "tenure              int64\n",
       "SeniorCitizen       int64\n",
       "MonthlyCharges    float64\n",
       "dtype: object"
      ]
     },
     "metadata": {},
     "output_type": "display_data"
    },
    {
     "data": {
      "text/html": [
       "<div>\n",
       "<style scoped>\n",
       "    .dataframe tbody tr th:only-of-type {\n",
       "        vertical-align: middle;\n",
       "    }\n",
       "\n",
       "    .dataframe tbody tr th {\n",
       "        vertical-align: top;\n",
       "    }\n",
       "\n",
       "    .dataframe thead th {\n",
       "        text-align: right;\n",
       "    }\n",
       "</style>\n",
       "<table border=\"1\" class=\"dataframe\">\n",
       "  <thead>\n",
       "    <tr style=\"text-align: right;\">\n",
       "      <th></th>\n",
       "      <th>count</th>\n",
       "      <th>mean</th>\n",
       "      <th>std</th>\n",
       "      <th>min</th>\n",
       "      <th>25%</th>\n",
       "      <th>50%</th>\n",
       "      <th>75%</th>\n",
       "      <th>max</th>\n",
       "    </tr>\n",
       "  </thead>\n",
       "  <tbody>\n",
       "    <tr>\n",
       "      <th>tenure</th>\n",
       "      <td>7043.0</td>\n",
       "      <td>32.371149</td>\n",
       "      <td>24.559481</td>\n",
       "      <td>0.00</td>\n",
       "      <td>9.0</td>\n",
       "      <td>29.00</td>\n",
       "      <td>55.00</td>\n",
       "      <td>72.00</td>\n",
       "    </tr>\n",
       "    <tr>\n",
       "      <th>SeniorCitizen</th>\n",
       "      <td>7043.0</td>\n",
       "      <td>0.162147</td>\n",
       "      <td>0.368612</td>\n",
       "      <td>0.00</td>\n",
       "      <td>0.0</td>\n",
       "      <td>0.00</td>\n",
       "      <td>0.00</td>\n",
       "      <td>1.00</td>\n",
       "    </tr>\n",
       "    <tr>\n",
       "      <th>MonthlyCharges</th>\n",
       "      <td>7043.0</td>\n",
       "      <td>64.761692</td>\n",
       "      <td>30.090047</td>\n",
       "      <td>18.25</td>\n",
       "      <td>35.5</td>\n",
       "      <td>70.35</td>\n",
       "      <td>89.85</td>\n",
       "      <td>118.75</td>\n",
       "    </tr>\n",
       "  </tbody>\n",
       "</table>\n",
       "</div>"
      ],
      "text/plain": [
       "                 count       mean        std    min   25%    50%    75%  \\\n",
       "tenure          7043.0  32.371149  24.559481   0.00   9.0  29.00  55.00   \n",
       "SeniorCitizen   7043.0   0.162147   0.368612   0.00   0.0   0.00   0.00   \n",
       "MonthlyCharges  7043.0  64.761692  30.090047  18.25  35.5  70.35  89.85   \n",
       "\n",
       "                   max  \n",
       "tenure           72.00  \n",
       "SeniorCitizen     1.00  \n",
       "MonthlyCharges  118.75  "
      ]
     },
     "metadata": {},
     "output_type": "display_data"
    }
   ],
   "source": [
    "#initial data exploration\n",
    "display(data.head())\n",
    "display(data.shape)\n",
    "display(data.dtypes)\n",
    "display(data.describe().T)"
   ]
  },
  {
   "cell_type": "code",
   "execution_count": 8,
   "id": "01556eb3",
   "metadata": {},
   "outputs": [
    {
     "data": {
      "text/plain": [
       "Churn             0\n",
       "tenure            0\n",
       "SeniorCitizen     0\n",
       "MonthlyCharges    0\n",
       "dtype: int64"
      ]
     },
     "execution_count": 8,
     "metadata": {},
     "output_type": "execute_result"
    }
   ],
   "source": [
    "#Looking first at sum of NaNs\n",
    "data.isna().sum()\n",
    "\n"
   ]
  },
  {
   "cell_type": "code",
   "execution_count": 9,
   "id": "44b405fc",
   "metadata": {},
   "outputs": [
    {
     "data": {
      "text/plain": [
       "No     5174\n",
       "Yes    1869\n",
       "Name: Churn, dtype: int64"
      ]
     },
     "execution_count": 9,
     "metadata": {},
     "output_type": "execute_result"
    }
   ],
   "source": [
    "#checking the distribution of the target variable 'Churn'\n",
    "data['Churn'].value_counts()\n",
    "#This preliminary assessment already hints the precense of imbalance data..."
   ]
  },
  {
   "cell_type": "code",
   "execution_count": 14,
   "id": "01405889",
   "metadata": {},
   "outputs": [
    {
     "name": "stderr",
     "output_type": "stream",
     "text": [
      "/var/folders/ws/0xbhg9d95hd9g5nvrfz8pwk40000gn/T/ipykernel_30883/1071990472.py:3: UserWarning: \n",
      "\n",
      "`distplot` is a deprecated function and will be removed in seaborn v0.14.0.\n",
      "\n",
      "Please adapt your code to use either `displot` (a figure-level function with\n",
      "similar flexibility) or `histplot` (an axes-level function for histograms).\n",
      "\n",
      "For a guide to updating your code to use the new functions, please see\n",
      "https://gist.github.com/mwaskom/de44147ed2974457ad6372750bbe5751\n",
      "\n",
      "  sns.distplot(data['tenure'])\n"
     ]
    },
    {
     "data": {
      "image/png": "[encoded data removed]",
      "text/plain": [
       "<Figure size 640x480 with 1 Axes>"
      ]
     },
     "metadata": {},
     "output_type": "display_data"
    },
    {
     "name": "stderr",
     "output_type": "stream",
     "text": [
      "/var/folders/ws/0xbhg9d95hd9g5nvrfz8pwk40000gn/T/ipykernel_30883/1071990472.py:7: UserWarning: \n",
      "\n",
      "`distplot` is a deprecated function and will be removed in seaborn v0.14.0.\n",
      "\n",
      "Please adapt your code to use either `displot` (a figure-level function with\n",
      "similar flexibility) or `histplot` (an axes-level function for histograms).\n",
      "\n",
      "For a guide to updating your code to use the new functions, please see\n",
      "https://gist.github.com/mwaskom/de44147ed2974457ad6372750bbe5751\n",
      "\n",
      "  sns.distplot(data['MonthlyCharges'])\n"
     ]
    },
    {
     "data": {
      "image/png": "[encoded data removed]",
      "text/plain": [
       "<Figure size 640x480 with 1 Axes>"
      ]
     },
     "metadata": {},
     "output_type": "display_data"
    },
    {
     "data": {
      "text/plain": [
       "0    5901\n",
       "1    1142\n",
       "Name: SeniorCitizen, dtype: int64"
      ]
     },
     "execution_count": 14,
     "metadata": {},
     "output_type": "execute_result"
    }
   ],
   "source": [
    "#checking briefly the distribution of the X variables\n",
    "#Tenure\n",
    "sns.distplot(data['tenure'])\n",
    "plt.show()\n",
    "\n",
    "#Monthly charges\n",
    "sns.distplot(data['MonthlyCharges'])\n",
    "plt.show()\n",
    "\n",
    "#SeniorCitizen\n",
    "data['SeniorCitizen'].value_counts()"
   ]
  },
  {
   "cell_type": "markdown",
   "id": "4a91f7e7",
   "metadata": {},
   "source": [
    "#### 3. Split the Dataset into X ('tenure', 'SeniorCitizen', 'MonthlyCharges') and y ('Churn') ####"
   ]
  },
  {
   "cell_type": "code",
   "execution_count": 15,
   "id": "67eaecac",
   "metadata": {},
   "outputs": [],
   "source": [
    "# X/y split\n",
    "X = data.drop('Churn',axis = 1)\n",
    "y = data['Churn']"
   ]
  },
  {
   "cell_type": "code",
   "execution_count": 16,
   "id": "57fe1376",
   "metadata": {},
   "outputs": [
    {
     "data": {
      "image/png": "[encoded data removed]",
      "text/plain": [
       "<Figure size 640x480 with 2 Axes>"
      ]
     },
     "metadata": {},
     "output_type": "display_data"
    }
   ],
   "source": [
    "#checking for multicolinearity\n",
    "correlations_matrix = X.corr()\n",
    "sns.heatmap(correlations_matrix, annot=True)\n",
    "plt.show()\n",
    "#the correlation matrix does not suggest precense of multicolinearity among Xs"
   ]
  },
  {
   "cell_type": "code",
   "execution_count": 17,
   "id": "e7fde5e6",
   "metadata": {},
   "outputs": [],
   "source": [
    "#Train-test-split before scaling X_num\n",
    "from sklearn.model_selection import train_test_split\n",
    "X_train, X_test, y_train, y_test = train_test_split(X, y, test_size=0.2, random_state=42)"
   ]
  },
  {
   "cell_type": "code",
   "execution_count": 20,
   "id": "f3f5dccc",
   "metadata": {},
   "outputs": [
    {
     "data": {
      "text/html": [
       "<div>\n",
       "<style scoped>\n",
       "    .dataframe tbody tr th:only-of-type {\n",
       "        vertical-align: middle;\n",
       "    }\n",
       "\n",
       "    .dataframe tbody tr th {\n",
       "        vertical-align: top;\n",
       "    }\n",
       "\n",
       "    .dataframe thead th {\n",
       "        text-align: right;\n",
       "    }\n",
       "</style>\n",
       "<table border=\"1\" class=\"dataframe\">\n",
       "  <thead>\n",
       "    <tr style=\"text-align: right;\">\n",
       "      <th></th>\n",
       "      <th>tenure</th>\n",
       "      <th>SeniorCitizen</th>\n",
       "      <th>MonthlyCharges</th>\n",
       "    </tr>\n",
       "  </thead>\n",
       "  <tbody>\n",
       "    <tr>\n",
       "      <th>0</th>\n",
       "      <td>0.291667</td>\n",
       "      <td>0.0</td>\n",
       "      <td>0.464375</td>\n",
       "    </tr>\n",
       "    <tr>\n",
       "      <th>1</th>\n",
       "      <td>0.750000</td>\n",
       "      <td>0.0</td>\n",
       "      <td>0.786746</td>\n",
       "    </tr>\n",
       "    <tr>\n",
       "      <th>2</th>\n",
       "      <td>0.013889</td>\n",
       "      <td>0.0</td>\n",
       "      <td>0.051819</td>\n",
       "    </tr>\n",
       "    <tr>\n",
       "      <th>3</th>\n",
       "      <td>0.055556</td>\n",
       "      <td>0.0</td>\n",
       "      <td>0.517688</td>\n",
       "    </tr>\n",
       "    <tr>\n",
       "      <th>4</th>\n",
       "      <td>0.000000</td>\n",
       "      <td>0.0</td>\n",
       "      <td>0.434978</td>\n",
       "    </tr>\n",
       "  </tbody>\n",
       "</table>\n",
       "</div>"
      ],
      "text/plain": [
       "     tenure  SeniorCitizen  MonthlyCharges\n",
       "0  0.291667            0.0        0.464375\n",
       "1  0.750000            0.0        0.786746\n",
       "2  0.013889            0.0        0.051819\n",
       "3  0.055556            0.0        0.517688\n",
       "4  0.000000            0.0        0.434978"
      ]
     },
     "metadata": {},
     "output_type": "display_data"
    },
    {
     "data": {
      "text/html": [
       "<div>\n",
       "<style scoped>\n",
       "    .dataframe tbody tr th:only-of-type {\n",
       "        vertical-align: middle;\n",
       "    }\n",
       "\n",
       "    .dataframe tbody tr th {\n",
       "        vertical-align: top;\n",
       "    }\n",
       "\n",
       "    .dataframe thead th {\n",
       "        text-align: right;\n",
       "    }\n",
       "</style>\n",
       "<table border=\"1\" class=\"dataframe\">\n",
       "  <thead>\n",
       "    <tr style=\"text-align: right;\">\n",
       "      <th></th>\n",
       "      <th>tenure</th>\n",
       "      <th>SeniorCitizen</th>\n",
       "      <th>MonthlyCharges</th>\n",
       "    </tr>\n",
       "  </thead>\n",
       "  <tbody>\n",
       "    <tr>\n",
       "      <th>0</th>\n",
       "      <td>0.013889</td>\n",
       "      <td>0.0</td>\n",
       "      <td>0.065272</td>\n",
       "    </tr>\n",
       "    <tr>\n",
       "      <th>1</th>\n",
       "      <td>0.569444</td>\n",
       "      <td>0.0</td>\n",
       "      <td>0.069756</td>\n",
       "    </tr>\n",
       "    <tr>\n",
       "      <th>2</th>\n",
       "      <td>0.722222</td>\n",
       "      <td>0.0</td>\n",
       "      <td>0.010962</td>\n",
       "    </tr>\n",
       "    <tr>\n",
       "      <th>3</th>\n",
       "      <td>0.013889</td>\n",
       "      <td>0.0</td>\n",
       "      <td>0.578974</td>\n",
       "    </tr>\n",
       "    <tr>\n",
       "      <th>4</th>\n",
       "      <td>0.930556</td>\n",
       "      <td>0.0</td>\n",
       "      <td>0.321873</td>\n",
       "    </tr>\n",
       "  </tbody>\n",
       "</table>\n",
       "</div>"
      ],
      "text/plain": [
       "     tenure  SeniorCitizen  MonthlyCharges\n",
       "0  0.013889            0.0        0.065272\n",
       "1  0.569444            0.0        0.069756\n",
       "2  0.722222            0.0        0.010962\n",
       "3  0.013889            0.0        0.578974\n",
       "4  0.930556            0.0        0.321873"
      ]
     },
     "execution_count": 20,
     "metadata": {},
     "output_type": "execute_result"
    }
   ],
   "source": [
    "# all features are numeric, so no need to split into _num and _cat\n",
    "#scaling X_train\n",
    "from sklearn.preprocessing import MinMaxScaler\n",
    "transformer = MinMaxScaler().fit(X_train)\n",
    "X_train_scaled_arr = transformer.transform(X_train)\n",
    "X_train_scaled = pd.DataFrame(X_train_scaled_arr, columns=X_train.columns)\n",
    "display(X_train_scaled.head())\n",
    "# now doing scale for X_test also\n",
    "X_test_scaled = pd.DataFrame(transformer.transform(X_test),columns=X.columns)\n",
    "X_test_scaled.head()"
   ]
  },
  {
   "cell_type": "code",
   "execution_count": 22,
   "id": "85bd59b8",
   "metadata": {},
   "outputs": [
    {
     "data": {
      "text/plain": [
       "0.0    4728\n",
       "1.0     906\n",
       "Name: SeniorCitizen, dtype: int64"
      ]
     },
     "metadata": {},
     "output_type": "display_data"
    },
    {
     "data": {
      "text/plain": [
       "0    4728\n",
       "1     906\n",
       "Name: SeniorCitizen, dtype: int64"
      ]
     },
     "metadata": {},
     "output_type": "display_data"
    }
   ],
   "source": [
    "#checking SeniorCitizen to see if scaling did not mess it up\n",
    "display(X_train_scaled['SeniorCitizen'].value_counts())\n",
    "display(X_train['SeniorCitizen'].value_counts())"
   ]
  },
  {
   "cell_type": "code",
   "execution_count": 24,
   "id": "d385a529",
   "metadata": {},
   "outputs": [
    {
     "data": {
      "text/plain": [
       "2142     No\n",
       "1623     No\n",
       "6074    Yes\n",
       "1362    Yes\n",
       "6754     No\n",
       "Name: Churn, dtype: object"
      ]
     },
     "metadata": {},
     "output_type": "display_data"
    }
   ],
   "source": [
    "#checking y_train and resetting index, in preparation for re-sampling later on:\n",
    "display(y_train.head())\n",
    "y_train = y_train.reset_index(drop=True)\n",
    "y_test = y_test.reset_index(drop=True)"
   ]
  },
  {
   "cell_type": "code",
   "execution_count": 32,
   "id": "f0accb76",
   "metadata": {},
   "outputs": [
    {
     "data": {
      "text/plain": [
       "0     No\n",
       "1     No\n",
       "2    Yes\n",
       "3    Yes\n",
       "4     No\n",
       "Name: Churn, dtype: object"
      ]
     },
     "metadata": {},
     "output_type": "display_data"
    },
    {
     "data": {
      "text/plain": [
       "0    Yes\n",
       "1     No\n",
       "2     No\n",
       "3    Yes\n",
       "4     No\n",
       "Name: Churn, dtype: object"
      ]
     },
     "metadata": {},
     "output_type": "display_data"
    }
   ],
   "source": [
    "display(y_train.head())\n",
    "display(y_test.head())"
   ]
  },
  {
   "cell_type": "markdown",
   "id": "d40264e1",
   "metadata": {},
   "source": [
    "#### 4. Build the logistic regression model. ####"
   ]
  },
  {
   "cell_type": "code",
   "execution_count": 26,
   "id": "c9ad611f",
   "metadata": {},
   "outputs": [
    {
     "data": {
      "text/html": [
       "<style>#sk-container-id-1 {color: black;background-color: white;}#sk-container-id-1 pre{padding: 0;}#sk-container-id-1 div.sk-toggleable {background-color: white;}#sk-container-id-1 label.sk-toggleable__label {cursor: pointer;display: block;width: 100%;margin-bottom: 0;padding: 0.3em;box-sizing: border-box;text-align: center;}#sk-container-id-1 label.sk-toggleable__label-arrow:before {content: \"▸\";float: left;margin-right: 0.25em;color: #696969;}#sk-container-id-1 label.sk-toggleable__label-arrow:hover:before {color: black;}#sk-container-id-1 div.sk-estimator:hover label.sk-toggleable__label-arrow:before {color: black;}#sk-container-id-1 div.sk-toggleable__content {max-height: 0;max-width: 0;overflow: hidden;text-align: left;background-color: #f0f8ff;}#sk-container-id-1 div.sk-toggleable__content pre {margin: 0.2em;color: black;border-radius: 0.25em;background-color: #f0f8ff;}#sk-container-id-1 input.sk-toggleable__control:checked~div.sk-toggleable__content {max-height: 200px;max-width: 100%;overflow: auto;}#sk-container-id-1 input.sk-toggleable__control:checked~label.sk-toggleable__label-arrow:before {content: \"▾\";}#sk-container-id-1 div.sk-estimator input.sk-toggleable__control:checked~label.sk-toggleable__label {background-color: #d4ebff;}#sk-container-id-1 div.sk-label input.sk-toggleable__control:checked~label.sk-toggleable__label {background-color: #d4ebff;}#sk-container-id-1 input.sk-hidden--visually {border: 0;clip: rect(1px 1px 1px 1px);clip: rect(1px, 1px, 1px, 1px);height: 1px;margin: -1px;overflow: hidden;padding: 0;position: absolute;width: 1px;}#sk-container-id-1 div.sk-estimator {font-family: monospace;background-color: #f0f8ff;border: 1px dotted black;border-radius: 0.25em;box-sizing: border-box;margin-bottom: 0.5em;}#sk-container-id-1 div.sk-estimator:hover {background-color: #d4ebff;}#sk-container-id-1 div.sk-parallel-item::after {content: \"\";width: 100%;border-bottom: 1px solid gray;flex-grow: 1;}#sk-container-id-1 div.sk-label:hover label.sk-toggleable__label {background-color: #d4ebff;}#sk-container-id-1 div.sk-serial::before {content: \"\";position: absolute;border-left: 1px solid gray;box-sizing: border-box;top: 0;bottom: 0;left: 50%;z-index: 0;}#sk-container-id-1 div.sk-serial {display: flex;flex-direction: column;align-items: center;background-color: white;padding-right: 0.2em;padding-left: 0.2em;position: relative;}#sk-container-id-1 div.sk-item {position: relative;z-index: 1;}#sk-container-id-1 div.sk-parallel {display: flex;align-items: stretch;justify-content: center;background-color: white;position: relative;}#sk-container-id-1 div.sk-item::before, #sk-container-id-1 div.sk-parallel-item::before {content: \"\";position: absolute;border-left: 1px solid gray;box-sizing: border-box;top: 0;bottom: 0;left: 50%;z-index: -1;}#sk-container-id-1 div.sk-parallel-item {display: flex;flex-direction: column;z-index: 1;position: relative;background-color: white;}#sk-container-id-1 div.sk-parallel-item:first-child::after {align-self: flex-end;width: 50%;}#sk-container-id-1 div.sk-parallel-item:last-child::after {align-self: flex-start;width: 50%;}#sk-container-id-1 div.sk-parallel-item:only-child::after {width: 0;}#sk-container-id-1 div.sk-dashed-wrapped {border: 1px dashed gray;margin: 0 0.4em 0.5em 0.4em;box-sizing: border-box;padding-bottom: 0.4em;background-color: white;}#sk-container-id-1 div.sk-label label {font-family: monospace;font-weight: bold;display: inline-block;line-height: 1.2em;}#sk-container-id-1 div.sk-label-container {text-align: center;}#sk-container-id-1 div.sk-container {/* jupyter's `normalize.less` sets `[hidden] { display: none; }` but bootstrap.min.css set `[hidden] { display: none !important; }` so we also need the `!important` here to be able to override the default hidden behavior on the sphinx rendered scikit-learn.org. See: https://github.com/scikit-learn/scikit-learn/issues/21755 */display: inline-block !important;position: relative;}#sk-container-id-1 div.sk-text-repr-fallback {display: none;}</style><div id=\"sk-container-id-1\" class=\"sk-top-container\"><div class=\"sk-text-repr-fallback\"><pre>LogisticRegression(random_state=0)</pre><b>In a Jupyter environment, please rerun this cell to show the HTML representation or trust the notebook. <br />On GitHub, the HTML representation is unable to render, please try loading this page with nbviewer.org.</b></div><div class=\"sk-container\" hidden><div class=\"sk-item\"><div class=\"sk-estimator sk-toggleable\"><input class=\"sk-toggleable__control sk-hidden--visually\" id=\"sk-estimator-id-1\" type=\"checkbox\" checked><label for=\"sk-estimator-id-1\" class=\"sk-toggleable__label sk-toggleable__label-arrow\">LogisticRegression</label><div class=\"sk-toggleable__content\"><pre>LogisticRegression(random_state=0)</pre></div></div></div></div></div>"
      ],
      "text/plain": [
       "LogisticRegression(random_state=0)"
      ]
     },
     "execution_count": 26,
     "metadata": {},
     "output_type": "execute_result"
    }
   ],
   "source": [
    "from sklearn.linear_model import LogisticRegression\n",
    "\n",
    "LR = LogisticRegression(random_state=0, solver='lbfgs')\n",
    "LR.fit(X_train_scaled, y_train)"
   ]
  },
  {
   "cell_type": "code",
   "execution_count": 27,
   "id": "2e16158a",
   "metadata": {
    "scrolled": true
   },
   "outputs": [
    {
     "data": {
      "text/plain": [
       "array([[0.71317004, 0.28682996],\n",
       "       [0.84319759, 0.15680241],\n",
       "       [0.74683136, 0.25316864],\n",
       "       ...,\n",
       "       [0.84841088, 0.15158912],\n",
       "       [0.23910814, 0.76089186],\n",
       "       [0.92351195, 0.07648805]])"
      ]
     },
     "execution_count": 27,
     "metadata": {},
     "output_type": "execute_result"
    }
   ],
   "source": [
    "LR.predict_proba(X_train_scaled)"
   ]
  },
  {
   "cell_type": "markdown",
   "id": "37a5f822",
   "metadata": {},
   "source": [
    "#### 5. Evaluate the model. ####"
   ]
  },
  {
   "cell_type": "code",
   "execution_count": 33,
   "id": "99db8cab",
   "metadata": {},
   "outputs": [
    {
     "data": {
      "text/plain": [
       "0.8041163946061036"
      ]
     },
     "execution_count": 33,
     "metadata": {},
     "output_type": "execute_result"
    }
   ],
   "source": [
    "LR.score(X_test_scaled, y_test)"
   ]
  },
  {
   "cell_type": "code",
   "execution_count": 48,
   "id": "95922f8a",
   "metadata": {},
   "outputs": [
    {
     "name": "stdout",
     "output_type": "stream",
     "text": [
      "precision:  0.6932270916334662\n",
      "recall:  0.46648793565683644\n",
      "f1:  0.5576923076923076\n"
     ]
    }
   ],
   "source": [
    "from sklearn.metrics import precision_score\n",
    "from sklearn.metrics import recall_score\n",
    "from sklearn.metrics import f1_score\n",
    "\n",
    "pred = LR.predict(X_test_scaled)\n",
    "\n",
    "pred\n",
    "print(\"precision: \",precision_score(y_test,pred, pos_label='Yes'))\n",
    "print(\"recall: \",recall_score(y_test,pred,pos_label='Yes'))\n",
    "print(\"f1: \",f1_score(y_test,pred, pos_label='Yes'))"
   ]
  },
  {
   "cell_type": "code",
   "execution_count": 49,
   "id": "6983fc60",
   "metadata": {},
   "outputs": [
    {
     "data": {
      "text/plain": [
       "array([[959,  77],\n",
       "       [199, 174]])"
      ]
     },
     "execution_count": 49,
     "metadata": {},
     "output_type": "execute_result"
    }
   ],
   "source": [
    "from sklearn.metrics import confusion_matrix\n",
    "confusion_matrix(y_test,pred)"
   ]
  },
  {
   "cell_type": "markdown",
   "id": "309ed16c",
   "metadata": {},
   "source": [
    "#### 6. Even a simple model will give us more than 70% accuracy. Why? ####\n",
    "\n",
    "- As observed in the preliminary exploration of the data (value_counts the target variable), the model gets a very high accuracy performance but mainly due to the number of 'No' category in the Churn column, that is the number of people who were actually not classified as a churn. \n",
    "- In fact, out of the 1128 of positive predictions (ie True negatives + True positives), 85% are 'No' predictions.\n",
    "- The relative low level of the recall metric is a reflection of this imbalance, confirming the model is not really performing well when trying to identify customers as churn. It is over-representing the potential 'No' outcomes, mainly as reflection of the imbalance in the original data"
   ]
  },
  {
   "cell_type": "markdown",
   "id": "d02e70b0",
   "metadata": {},
   "source": [
    "#### 7. Apply imblearn.over_sampling.SMOTE to the dataset. Build and evaluate the logistic regression model. Is it there any improvement? ####"
   ]
  },
  {
   "cell_type": "code",
   "execution_count": 50,
   "id": "5fb0d090",
   "metadata": {},
   "outputs": [],
   "source": [
    "from imblearn.over_sampling import SMOTE"
   ]
  },
  {
   "cell_type": "code",
   "execution_count": 51,
   "id": "44728f89",
   "metadata": {},
   "outputs": [],
   "source": [
    "sm = SMOTE(random_state=100, k_neighbors=3)\n",
    "X_train_SMOTE,y_train_SMOTE = sm.fit_resample(X_train_scaled,y_train)"
   ]
  },
  {
   "cell_type": "code",
   "execution_count": 53,
   "id": "715bdb7c",
   "metadata": {},
   "outputs": [
    {
     "data": {
      "text/plain": [
       "(8276, 3)"
      ]
     },
     "metadata": {},
     "output_type": "display_data"
    },
    {
     "data": {
      "text/plain": [
       "(5634, 3)"
      ]
     },
     "metadata": {},
     "output_type": "display_data"
    }
   ],
   "source": [
    "display(X_train_SMOTE.shape)\n",
    "display(X_train.shape)"
   ]
  },
  {
   "cell_type": "code",
   "execution_count": 54,
   "id": "fe19d6f6",
   "metadata": {},
   "outputs": [
    {
     "name": "stdout",
     "output_type": "stream",
     "text": [
      "precision:  0.5125448028673835\n",
      "recall:  0.7667560321715817\n",
      "f1:  0.6143931256713211\n"
     ]
    }
   ],
   "source": [
    "LR = LogisticRegression(random_state=0, solver='lbfgs')\n",
    "LR.fit(X_train_SMOTE, y_train_SMOTE)\n",
    "pred = LR.predict(X_test_scaled)\n",
    "\n",
    "print(\"precision: \",precision_score(y_test,pred, pos_label='Yes'))\n",
    "print(\"recall: \",recall_score(y_test,pred,pos_label='Yes'))\n",
    "print(\"f1: \",f1_score(y_test,pred, pos_label='Yes'))"
   ]
  },
  {
   "cell_type": "code",
   "execution_count": 55,
   "id": "0d494c3a",
   "metadata": {},
   "outputs": [
    {
     "data": {
      "text/plain": [
       "0.7452093683463449"
      ]
     },
     "execution_count": 55,
     "metadata": {},
     "output_type": "execute_result"
    }
   ],
   "source": [
    "LR.score(X_test_scaled, y_test)"
   ]
  },
  {
   "cell_type": "code",
   "execution_count": 57,
   "id": "dfcc8fa9",
   "metadata": {},
   "outputs": [
    {
     "data": {
      "text/plain": [
       "array([[764, 272],\n",
       "       [ 87, 286]])"
      ]
     },
     "execution_count": 57,
     "metadata": {},
     "output_type": "execute_result"
    }
   ],
   "source": [
    "confusion_matrix(y_test,pred)"
   ]
  },
  {
   "cell_type": "markdown",
   "id": "10398364",
   "metadata": {},
   "source": [
    "- Applying imblearn.over_sampling.SMOTE to the dataset does indeed improve the model's performance to estimate customers that are classified as Churn, with the true negatives improving from 174 to 286.\n",
    "- This implied that the recall metric improved from 0.46 to 0.76.\n",
    "- On the other hand, the model lost some of its ability to predict customers that are NOT churns, with the true positives falling from 959 to 764 (there nearly 200 additional customers that the model classified wrongly as churns compared to the previous version).\n",
    "- This reflected in a decline in the accuracy ratio (R) to 0.74 from 0.80, while the precision metric also drops significantly.\n",
    "- Will try to see if performing oversampling or undersampling could improve on these results"
   ]
  },
  {
   "cell_type": "markdown",
   "id": "e9db864a",
   "metadata": {},
   "source": [
    "#### Oversampling"
   ]
  },
  {
   "cell_type": "code",
   "execution_count": 66,
   "id": "800c51e0",
   "metadata": {},
   "outputs": [],
   "source": [
    "from sklearn.utils import resample"
   ]
  },
  {
   "cell_type": "code",
   "execution_count": 74,
   "id": "657064b7",
   "metadata": {},
   "outputs": [
    {
     "data": {
      "text/html": [
       "<div>\n",
       "<style scoped>\n",
       "    .dataframe tbody tr th:only-of-type {\n",
       "        vertical-align: middle;\n",
       "    }\n",
       "\n",
       "    .dataframe tbody tr th {\n",
       "        vertical-align: top;\n",
       "    }\n",
       "\n",
       "    .dataframe thead th {\n",
       "        text-align: right;\n",
       "    }\n",
       "</style>\n",
       "<table border=\"1\" class=\"dataframe\">\n",
       "  <thead>\n",
       "    <tr style=\"text-align: right;\">\n",
       "      <th></th>\n",
       "      <th>tenure</th>\n",
       "      <th>SeniorCitizen</th>\n",
       "      <th>MonthlyCharges</th>\n",
       "      <th>Churn</th>\n",
       "    </tr>\n",
       "  </thead>\n",
       "  <tbody>\n",
       "    <tr>\n",
       "      <th>0</th>\n",
       "      <td>0.291667</td>\n",
       "      <td>0.0</td>\n",
       "      <td>0.464375</td>\n",
       "      <td>No</td>\n",
       "    </tr>\n",
       "    <tr>\n",
       "      <th>1</th>\n",
       "      <td>0.750000</td>\n",
       "      <td>0.0</td>\n",
       "      <td>0.786746</td>\n",
       "      <td>No</td>\n",
       "    </tr>\n",
       "    <tr>\n",
       "      <th>2</th>\n",
       "      <td>0.013889</td>\n",
       "      <td>0.0</td>\n",
       "      <td>0.051819</td>\n",
       "      <td>Yes</td>\n",
       "    </tr>\n",
       "    <tr>\n",
       "      <th>3</th>\n",
       "      <td>0.055556</td>\n",
       "      <td>0.0</td>\n",
       "      <td>0.517688</td>\n",
       "      <td>Yes</td>\n",
       "    </tr>\n",
       "    <tr>\n",
       "      <th>4</th>\n",
       "      <td>0.000000</td>\n",
       "      <td>0.0</td>\n",
       "      <td>0.434978</td>\n",
       "      <td>No</td>\n",
       "    </tr>\n",
       "  </tbody>\n",
       "</table>\n",
       "</div>"
      ],
      "text/plain": [
       "     tenure  SeniorCitizen  MonthlyCharges Churn\n",
       "0  0.291667            0.0        0.464375    No\n",
       "1  0.750000            0.0        0.786746    No\n",
       "2  0.013889            0.0        0.051819   Yes\n",
       "3  0.055556            0.0        0.517688   Yes\n",
       "4  0.000000            0.0        0.434978    No"
      ]
     },
     "execution_count": 74,
     "metadata": {},
     "output_type": "execute_result"
    }
   ],
   "source": [
    "# first will concatenate  X_train & y_train\n",
    "train = pd.concat([X_train_scaled, y_train],axis=1)\n",
    "train.head()"
   ]
  },
  {
   "cell_type": "code",
   "execution_count": 75,
   "id": "43ea93d0",
   "metadata": {},
   "outputs": [
    {
     "data": {
      "text/plain": [
       "No     4138\n",
       "Yes    1496\n",
       "Name: Churn, dtype: int64"
      ]
     },
     "execution_count": 75,
     "metadata": {},
     "output_type": "execute_result"
    }
   ],
   "source": [
    "train['Churn'].value_counts()"
   ]
  },
  {
   "cell_type": "code",
   "execution_count": 76,
   "id": "c797253d",
   "metadata": {},
   "outputs": [],
   "source": [
    "# separate majority/minority classes\n",
    "no_churn = train[train['Churn']=='No']\n",
    "yes_churn = train[train['Churn']=='Yes']"
   ]
  },
  {
   "cell_type": "code",
   "execution_count": 77,
   "id": "d780f9b4",
   "metadata": {},
   "outputs": [
    {
     "data": {
      "text/plain": [
       "(4138, 4)"
      ]
     },
     "metadata": {},
     "output_type": "display_data"
    },
    {
     "data": {
      "text/plain": [
       "(1496, 4)"
      ]
     },
     "metadata": {},
     "output_type": "display_data"
    }
   ],
   "source": [
    "display(no_churn.shape)\n",
    "display(yes_churn.shape)"
   ]
  },
  {
   "cell_type": "code",
   "execution_count": 67,
   "id": "bd47afa0",
   "metadata": {},
   "outputs": [],
   "source": [
    "# oversample minority\n",
    "yes_churn_oversampled = resample(yes_churn, replace=True, n_samples = len(no_churn), random_state=0)"
   ]
  },
  {
   "cell_type": "code",
   "execution_count": 79,
   "id": "2910bcc2",
   "metadata": {},
   "outputs": [
    {
     "data": {
      "text/plain": [
       "(4138, 4)"
      ]
     },
     "metadata": {},
     "output_type": "display_data"
    },
    {
     "data": {
      "text/plain": [
       "(4138, 4)"
      ]
     },
     "metadata": {},
     "output_type": "display_data"
    }
   ],
   "source": [
    "display(yes_churn_oversampled.shape)\n",
    "display(no_churn.shape)"
   ]
  },
  {
   "cell_type": "code",
   "execution_count": 83,
   "id": "40bac99d",
   "metadata": {},
   "outputs": [
    {
     "data": {
      "text/html": [
       "<div>\n",
       "<style scoped>\n",
       "    .dataframe tbody tr th:only-of-type {\n",
       "        vertical-align: middle;\n",
       "    }\n",
       "\n",
       "    .dataframe tbody tr th {\n",
       "        vertical-align: top;\n",
       "    }\n",
       "\n",
       "    .dataframe thead th {\n",
       "        text-align: right;\n",
       "    }\n",
       "</style>\n",
       "<table border=\"1\" class=\"dataframe\">\n",
       "  <thead>\n",
       "    <tr style=\"text-align: right;\">\n",
       "      <th></th>\n",
       "      <th>tenure</th>\n",
       "      <th>SeniorCitizen</th>\n",
       "      <th>MonthlyCharges</th>\n",
       "      <th>Churn</th>\n",
       "    </tr>\n",
       "  </thead>\n",
       "  <tbody>\n",
       "    <tr>\n",
       "      <th>0</th>\n",
       "      <td>0.291667</td>\n",
       "      <td>0.0</td>\n",
       "      <td>0.464375</td>\n",
       "      <td>No</td>\n",
       "    </tr>\n",
       "    <tr>\n",
       "      <th>1</th>\n",
       "      <td>0.750000</td>\n",
       "      <td>0.0</td>\n",
       "      <td>0.786746</td>\n",
       "      <td>No</td>\n",
       "    </tr>\n",
       "    <tr>\n",
       "      <th>4</th>\n",
       "      <td>0.000000</td>\n",
       "      <td>0.0</td>\n",
       "      <td>0.434978</td>\n",
       "      <td>No</td>\n",
       "    </tr>\n",
       "    <tr>\n",
       "      <th>5</th>\n",
       "      <td>0.097222</td>\n",
       "      <td>0.0</td>\n",
       "      <td>0.511211</td>\n",
       "      <td>No</td>\n",
       "    </tr>\n",
       "    <tr>\n",
       "      <th>6</th>\n",
       "      <td>0.444444</td>\n",
       "      <td>0.0</td>\n",
       "      <td>0.006976</td>\n",
       "      <td>No</td>\n",
       "    </tr>\n",
       "  </tbody>\n",
       "</table>\n",
       "</div>"
      ],
      "text/plain": [
       "     tenure  SeniorCitizen  MonthlyCharges Churn\n",
       "0  0.291667            0.0        0.464375    No\n",
       "1  0.750000            0.0        0.786746    No\n",
       "4  0.000000            0.0        0.434978    No\n",
       "5  0.097222            0.0        0.511211    No\n",
       "6  0.444444            0.0        0.006976    No"
      ]
     },
     "metadata": {},
     "output_type": "display_data"
    },
    {
     "data": {
      "text/plain": [
       "(8276, 4)"
      ]
     },
     "metadata": {},
     "output_type": "display_data"
    },
    {
     "data": {
      "text/plain": [
       "No     4138\n",
       "Yes    4138\n",
       "Name: Churn, dtype: int64"
      ]
     },
     "metadata": {},
     "output_type": "display_data"
    }
   ],
   "source": [
    "#combining the two sets\n",
    "train_oversampled = pd.concat([no_churn,yes_churn_oversampled],axis=0)\n",
    "display(train_oversampled.head())\n",
    "display(train_oversampled.shape)\n",
    "display(train_oversampled['Churn'].value_counts())"
   ]
  },
  {
   "cell_type": "code",
   "execution_count": 84,
   "id": "0e101baa",
   "metadata": {},
   "outputs": [],
   "source": [
    "#splitting X and Y\n",
    "y_train_over = train_oversampled['Churn'].copy()\n",
    "X_train_over = train_oversampled.drop('Churn',axis = 1).copy()"
   ]
  },
  {
   "cell_type": "code",
   "execution_count": 86,
   "id": "1fa8be3c",
   "metadata": {},
   "outputs": [
    {
     "name": "stdout",
     "output_type": "stream",
     "text": [
      "precision:  0.5134168157423972\n",
      "recall:  0.7694369973190348\n",
      "f1:  0.6158798283261803\n"
     ]
    }
   ],
   "source": [
    "LR_over = LogisticRegression(random_state=0, solver='lbfgs')\n",
    "LR_over.fit(X_train_over, y_train_over)\n",
    "pred = LR_over.predict(X_test_scaled)\n",
    "\n",
    "print(\"precision: \",precision_score(y_test,pred, pos_label='Yes'))\n",
    "print(\"recall: \",recall_score(y_test,pred,pos_label='Yes'))\n",
    "print(\"f1: \",f1_score(y_test,pred, pos_label='Yes'))"
   ]
  },
  {
   "cell_type": "code",
   "execution_count": 87,
   "id": "ecb912a9",
   "metadata": {},
   "outputs": [
    {
     "data": {
      "text/plain": [
       "array([[764, 272],\n",
       "       [ 86, 287]])"
      ]
     },
     "execution_count": 87,
     "metadata": {},
     "output_type": "execute_result"
    }
   ],
   "source": [
    "confusion_matrix(y_test,pred)"
   ]
  },
  {
   "cell_type": "markdown",
   "id": "7c99b061",
   "metadata": {},
   "source": [
    "- Applying oversampling improve only marginally the performance of the model, obtaining 1 extra false positive versus the model with imblearn.over_sampling.SMOTE.\n",
    "- Will now compare it with a model based on undersampling data"
   ]
  },
  {
   "cell_type": "markdown",
   "id": "5c55d79f",
   "metadata": {},
   "source": [
    "#### Undersampling"
   ]
  },
  {
   "cell_type": "code",
   "execution_count": 88,
   "id": "acde17ed",
   "metadata": {},
   "outputs": [],
   "source": [
    "# undersampling majority now\n",
    "no_churn_undersampled = resample(no_churn, replace=False, n_samples = len(yes_churn), random_state=0)"
   ]
  },
  {
   "cell_type": "code",
   "execution_count": 89,
   "id": "7ceb5270",
   "metadata": {},
   "outputs": [
    {
     "data": {
      "text/plain": [
       "(1496, 4)"
      ]
     },
     "metadata": {},
     "output_type": "display_data"
    },
    {
     "data": {
      "text/plain": [
       "(1496, 4)"
      ]
     },
     "metadata": {},
     "output_type": "display_data"
    }
   ],
   "source": [
    "# checking shapes\n",
    "display(yes_churn.shape)\n",
    "display(no_churn_undersampled.shape)"
   ]
  },
  {
   "cell_type": "code",
   "execution_count": 90,
   "id": "4bbe76e4",
   "metadata": {},
   "outputs": [
    {
     "data": {
      "text/html": [
       "<div>\n",
       "<style scoped>\n",
       "    .dataframe tbody tr th:only-of-type {\n",
       "        vertical-align: middle;\n",
       "    }\n",
       "\n",
       "    .dataframe tbody tr th {\n",
       "        vertical-align: top;\n",
       "    }\n",
       "\n",
       "    .dataframe thead th {\n",
       "        text-align: right;\n",
       "    }\n",
       "</style>\n",
       "<table border=\"1\" class=\"dataframe\">\n",
       "  <thead>\n",
       "    <tr style=\"text-align: right;\">\n",
       "      <th></th>\n",
       "      <th>tenure</th>\n",
       "      <th>SeniorCitizen</th>\n",
       "      <th>MonthlyCharges</th>\n",
       "      <th>Churn</th>\n",
       "    </tr>\n",
       "  </thead>\n",
       "  <tbody>\n",
       "    <tr>\n",
       "      <th>2</th>\n",
       "      <td>0.013889</td>\n",
       "      <td>0.0</td>\n",
       "      <td>0.051819</td>\n",
       "      <td>Yes</td>\n",
       "    </tr>\n",
       "    <tr>\n",
       "      <th>3</th>\n",
       "      <td>0.055556</td>\n",
       "      <td>0.0</td>\n",
       "      <td>0.517688</td>\n",
       "      <td>Yes</td>\n",
       "    </tr>\n",
       "    <tr>\n",
       "      <th>8</th>\n",
       "      <td>0.263889</td>\n",
       "      <td>0.0</td>\n",
       "      <td>0.213254</td>\n",
       "      <td>Yes</td>\n",
       "    </tr>\n",
       "    <tr>\n",
       "      <th>10</th>\n",
       "      <td>0.291667</td>\n",
       "      <td>1.0</td>\n",
       "      <td>0.506726</td>\n",
       "      <td>Yes</td>\n",
       "    </tr>\n",
       "    <tr>\n",
       "      <th>26</th>\n",
       "      <td>0.111111</td>\n",
       "      <td>1.0</td>\n",
       "      <td>0.735924</td>\n",
       "      <td>Yes</td>\n",
       "    </tr>\n",
       "  </tbody>\n",
       "</table>\n",
       "</div>"
      ],
      "text/plain": [
       "      tenure  SeniorCitizen  MonthlyCharges Churn\n",
       "2   0.013889            0.0        0.051819   Yes\n",
       "3   0.055556            0.0        0.517688   Yes\n",
       "8   0.263889            0.0        0.213254   Yes\n",
       "10  0.291667            1.0        0.506726   Yes\n",
       "26  0.111111            1.0        0.735924   Yes"
      ]
     },
     "metadata": {},
     "output_type": "display_data"
    },
    {
     "data": {
      "text/plain": [
       "(2992, 4)"
      ]
     },
     "metadata": {},
     "output_type": "display_data"
    }
   ],
   "source": [
    "train_undersampled = pd.concat([yes_churn,no_churn_undersampled], axis=0)\n",
    "display(train_undersampled.head())\n",
    "display(train_undersampled.shape)"
   ]
  },
  {
   "cell_type": "code",
   "execution_count": 91,
   "id": "23c7c39b",
   "metadata": {},
   "outputs": [],
   "source": [
    "y_train_under = train_undersampled['Churn'].copy()\n",
    "X_train_under = train_undersampled.drop('Churn',axis = 1).copy()"
   ]
  },
  {
   "cell_type": "code",
   "execution_count": 92,
   "id": "7ac3af83",
   "metadata": {},
   "outputs": [
    {
     "name": "stdout",
     "output_type": "stream",
     "text": [
      "precision:  0.5115452930728241\n",
      "recall:  0.7721179624664879\n",
      "f1:  0.6153846153846153\n"
     ]
    }
   ],
   "source": [
    "from sklearn.linear_model import LogisticRegression\n",
    "\n",
    "LR = LogisticRegression(random_state=0, solver='lbfgs')\n",
    "LR.fit(X_train_under, y_train_under)\n",
    "pred = LR.predict(X_test_scaled)\n",
    "\n",
    "print(\"precision: \",precision_score(y_test,pred, pos_label='Yes'))\n",
    "print(\"recall: \",recall_score(y_test,pred,pos_label='Yes'))\n",
    "print(\"f1: \",f1_score(y_test,pred, pos_label='Yes'))"
   ]
  },
  {
   "cell_type": "code",
   "execution_count": 93,
   "id": "a846d141",
   "metadata": {},
   "outputs": [
    {
     "data": {
      "text/plain": [
       "array([[761, 275],\n",
       "       [ 85, 288]])"
      ]
     },
     "execution_count": 93,
     "metadata": {},
     "output_type": "execute_result"
    }
   ],
   "source": [
    "confusion_matrix(y_test,pred)"
   ]
  },
  {
   "cell_type": "markdown",
   "id": "7f597277",
   "metadata": {},
   "source": [
    "- When applying undersampling, the number of true negative also improves by 1 observation.\n",
    "- However, the model also loses predicting power for estimating a customer is not a churn, with 3 less true positive observations.\n",
    "- Overall, there are no significant differences between these methods. At the margin, it seems that oversampling could be the best approach."
   ]
  },
  {
   "cell_type": "code",
   "execution_count": null,
   "id": "011d8206",
   "metadata": {},
   "outputs": [],
   "source": []
  }
 ],
 "metadata": {
  "kernelspec": {
   "display_name": "Python 3 (ipykernel)",
   "language": "python",
   "name": "python3"
  },
  "language_info": {
   "codemirror_mode": {
    "name": "ipython",
    "version": 3
   },
   "file_extension": ".py",
   "mimetype": "text/x-python",
   "name": "python",
   "nbconvert_exporter": "python",
   "pygments_lexer": "ipython3",
   "version": "3.11.4"
  }
 },
 "nbformat": 4,
 "nbformat_minor": 5
}
